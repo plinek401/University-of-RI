{
 "cells": [
  {
   "cell_type": "code",
   "execution_count": null,
   "metadata": {},
   "outputs": [],
   "source": [
    "import numpy as np\n",
    "import pandas as pd\n",
    "import matplotlib.pyplot as plt\n",
    "import seaborn as sns\n",
    "from sklearn import preprocessing\n",
    "from sklearn.preprocessing import MinMaxScaler"
   ]
  },
  {
   "cell_type": "code",
   "execution_count": null,
   "metadata": {},
   "outputs": [],
   "source": [
    "xtest = pd.read_csv(\"XTest.csv\")\n",
    "\n",
    "xtrain = pd.read_csv(\"xTrain.csv\")\n",
    "ytrain = pd.read_csv(\"yTrain.csv\")\n",
    "\n",
    "xtrain.head()"
   ]
  },
  {
   "cell_type": "code",
   "execution_count": null,
   "metadata": {},
   "outputs": [],
   "source": [
    "#This drops any and all values where the most common element appears more than 90% of the time as this information probably isn't the most useful.\n",
    "\n",
    "labels = list(xtrain.columns.values)\n",
    "for elem in labels:\n",
    "    ##If 90% (.9) or more of a column have the same value, ie, a column with the values[0,0,0,0,0,0,0,0,0,1], then the column will be dropped. This value can be changed if needed.\n",
    "    if (list(xtrain[elem].value_counts(normalize = True))[0]) > 0.9:\n",
    "        xtrain.drop(columns = elem, inplace=True)\n",
    "\n",
    "#This drops our test data to 94 columns.\n",
    "xtrain.head()"
   ]
  },
  {
   "cell_type": "code",
   "execution_count": null,
   "metadata": {},
   "outputs": [],
   "source": [
    "# Create the Scaler object\n",
    "scaler = MinMaxScaler()\n",
    "scaled_xtrain = pd.DataFrame(scaler.fit_transform(xtrain), columns=xtrain.columns)"
   ]
  },
  {
   "cell_type": "code",
   "execution_count": null,
   "metadata": {},
   "outputs": [],
   "source": [
    "print(scaled_xtrain)"
   ]
  },
  {
   "cell_type": "code",
   "execution_count": null,
   "metadata": {},
   "outputs": [],
   "source": [
    "import matplotlib.pyplot as plt\n",
    "import math\n",
    "import random"
   ]
  },
  {
   "cell_type": "code",
   "execution_count": null,
   "metadata": {},
   "outputs": [],
   "source": [
    "#Residual Sum of Squares\n",
    "def SSE(w,data):\n",
    "    totalError=0\n",
    "    for i in range(data.shape[0]): \n",
    "        yOutput = m*data[i,0]+b\n",
    "        y = data[i,1]\n",
    "        error = (y-yOutput)**2\n",
    "        totalError =totalError+ error\n",
    "    return totalError"
   ]
  },
  {
   "cell_type": "code",
   "execution_count": null,
   "metadata": {},
   "outputs": [],
   "source": [
    "def stochastic_gradient_descent_step(xtrain, ytrain):\n",
    "    indexes = np.random.randint(low=0, high=xtrain.shape[0], size=1000)\n",
    "    xstoch = np.take(xtrain,indexes,0)\n",
    "    ystoch = np.take(ytrain,indexes,0)\n",
    "    w = np.linalg.pinv(xstoch).dot(ystoch)\n",
    "    l_rate = 0.025\n",
    "    augX = np.concatenate((np.ones((xstoch.shape[0],1)),xstoch), axis=1)\n",
    "    \n",
    "    for i in range(10):\n",
    "        indexes = np.random.randint(low=0, high=xtrain.shape[0], size=1000)\n",
    "        xstoch = np.take(xtrain,indexes,0)\n",
    "        ystoch = np.take(ytrain,indexes,0)\n",
    "        grad = 2 * (augX.T.dot(augX.dot(w)-ystoch) / xstoch.shape[0])\n",
    "        w = w - l_rate * grad\n",
    "    \n",
    "    return w"
   ]
  },
  {
   "cell_type": "code",
   "execution_count": null,
   "metadata": {},
   "outputs": [],
   "source": [
    "def sample_data(data, batch_size):\n",
    "    #mini-batch gradient descent\n",
    "    if(batch_size< data.shape[0]):\n",
    "        #the first two line are simulating like if we were choosing randomly points from the data\n",
    "        index = np.random.permutation(data.shape[0]) #first suffle the index of data\n",
    "        index = index[0:batch_size] #then we take the batch \n",
    "        #algorithm for getting the sample_data\n",
    "        data_sample=[]\n",
    "        for i in index:\n",
    "            data_sample.append(data[i])\n",
    "        return np.array(data_sample)"
   ]
  },
  {
   "cell_type": "code",
   "execution_count": null,
   "metadata": {},
   "outputs": [],
   "source": [
    "\n",
    "returned = stochastic_gradient_descent_step(xtrain, ytrain)\n",
    "\n",
    "print(returned)\n",
    "\"\"\"max_epochs = 100\n",
    "\n",
    "#RUN CODE\n",
    "#start = time.time()\n",
    "for i in range(max_epochs):\n",
    "    data_sample = sample_data(np.array(X),50)\n",
    "    w = stochastic_gradient_descent_step(w,data_sample)\n",
    "    sse = SSE(w,np.array(X))\n",
    "    #if(i%10==0):\n",
    "        #end = time.time()\n",
    "        #print('time consumtion = ',end-start)\n",
    "        #print('iteration ', i)\n",
    "        #start = time.time()\n",
    "    #print('At step %d - Line: y = %.2fx + %.2f - Error: %.2f' %(i+1,m,b,sse))\n",
    "print('\\nBest  line: y = %.2fx + %.2f - Error: %.2f' %(w, sse))\n",
    "\"\"\""
   ]
  },
  {
   "cell_type": "code",
   "execution_count": null,
   "metadata": {},
   "outputs": [],
   "source": []
  },
  {
   "cell_type": "code",
   "execution_count": null,
   "metadata": {},
   "outputs": [],
   "source": []
  },
  {
   "cell_type": "code",
   "execution_count": null,
   "metadata": {},
   "outputs": [],
   "source": [
    "#Plot of all variables which weren't dropped above and their correlation to each other. As seen there are 2 rectangles of correlation.\n",
    "plt.subplots(figsize=(5,5))\n",
    "sns.heatmap(xtrain.corr())"
   ]
  },
  {
   "cell_type": "code",
   "execution_count": null,
   "metadata": {},
   "outputs": [],
   "source": [
    "print(\"hi\")"
   ]
  },
  {
   "cell_type": "code",
   "execution_count": 1,
   "metadata": {},
   "outputs": [
    {
     "ename": "ValueError",
     "evalue": "non-broadcastable output operand with shape (7624,1) doesn't match the broadcast shape (7624,280)",
     "output_type": "error",
     "traceback": [
      "\u001b[1;31m---------------------------------------------------------------------------\u001b[0m",
      "\u001b[1;31mValueError\u001b[0m                                Traceback (most recent call last)",
      "\u001b[1;32m<ipython-input-1-a6c1b3cdd003>\u001b[0m in \u001b[0;36m<module>\u001b[1;34m\u001b[0m\n\u001b[0;32m     86\u001b[0m \u001b[1;32mimport\u001b[0m \u001b[0mxlsxwriter\u001b[0m\u001b[1;33m\u001b[0m\u001b[1;33m\u001b[0m\u001b[0m\n\u001b[0;32m     87\u001b[0m \u001b[0mrow\u001b[0m \u001b[1;33m=\u001b[0m \u001b[1;36m1\u001b[0m\u001b[1;33m\u001b[0m\u001b[1;33m\u001b[0m\u001b[0m\n\u001b[1;32m---> 88\u001b[1;33m \u001b[0moutput\u001b[0m \u001b[1;33m=\u001b[0m \u001b[0mscaler\u001b[0m\u001b[1;33m.\u001b[0m\u001b[0minverse_transform\u001b[0m\u001b[1;33m(\u001b[0m\u001b[0mxtest\u001b[0m\u001b[1;33m.\u001b[0m\u001b[0mdot\u001b[0m\u001b[1;33m(\u001b[0m\u001b[0mw\u001b[0m\u001b[1;33m)\u001b[0m\u001b[1;33m)\u001b[0m\u001b[1;33m\u001b[0m\u001b[1;33m\u001b[0m\u001b[0m\n\u001b[0m\u001b[0;32m     89\u001b[0m \u001b[0mprint\u001b[0m\u001b[1;33m(\u001b[0m\u001b[0moutput\u001b[0m\u001b[1;33m)\u001b[0m\u001b[1;33m\u001b[0m\u001b[1;33m\u001b[0m\u001b[0m\n\u001b[0;32m     90\u001b[0m \u001b[0mworkbook\u001b[0m \u001b[1;33m=\u001b[0m \u001b[0mxlsxwriter\u001b[0m\u001b[1;33m.\u001b[0m\u001b[0mWorkbook\u001b[0m\u001b[1;33m(\u001b[0m\u001b[1;34m'output.xlsx'\u001b[0m\u001b[1;33m)\u001b[0m\u001b[1;33m\u001b[0m\u001b[1;33m\u001b[0m\u001b[0m\n",
      "\u001b[1;32m~\\Anaconda3\\lib\\site-packages\\sklearn\\preprocessing\\data.py\u001b[0m in \u001b[0;36minverse_transform\u001b[1;34m(self, X)\u001b[0m\n\u001b[0;32m    404\u001b[0m                         force_all_finite=\"allow-nan\")\n\u001b[0;32m    405\u001b[0m \u001b[1;33m\u001b[0m\u001b[0m\n\u001b[1;32m--> 406\u001b[1;33m         \u001b[0mX\u001b[0m \u001b[1;33m-=\u001b[0m \u001b[0mself\u001b[0m\u001b[1;33m.\u001b[0m\u001b[0mmin_\u001b[0m\u001b[1;33m\u001b[0m\u001b[1;33m\u001b[0m\u001b[0m\n\u001b[0m\u001b[0;32m    407\u001b[0m         \u001b[0mX\u001b[0m \u001b[1;33m/=\u001b[0m \u001b[0mself\u001b[0m\u001b[1;33m.\u001b[0m\u001b[0mscale_\u001b[0m\u001b[1;33m\u001b[0m\u001b[1;33m\u001b[0m\u001b[0m\n\u001b[0;32m    408\u001b[0m         \u001b[1;32mreturn\u001b[0m \u001b[0mX\u001b[0m\u001b[1;33m\u001b[0m\u001b[1;33m\u001b[0m\u001b[0m\n",
      "\u001b[1;31mValueError\u001b[0m: non-broadcastable output operand with shape (7624,1) doesn't match the broadcast shape (7624,280)"
     ]
    }
   ],
   "source": [
    "import numpy as np\n",
    "import pandas as pd\n",
    "import matplotlib.pyplot as plt\n",
    "import seaborn as sns\n",
    "from sklearn.preprocessing import MinMaxScaler\n",
    "from sklearn.preprocessing import PolynomialFeatures\n",
    "from sklearn.metrics import mean_absolute_error\n",
    "\n",
    "accuracy_list = []\n",
    "\n",
    "xtrain = pd.read_csv(\"xTrain.csv\")\n",
    "ytrain = pd.read_csv(\"yTrain.csv\")\n",
    "xtest = pd.read_csv(\"xTest.csv\")\n",
    "#Scale xtrain\n",
    "scaler = MinMaxScaler()\n",
    "xtrain = pd.DataFrame(scaler.fit_transform(xtrain), columns=xtrain.columns)\n",
    "ytrain = pd.DataFrame(scaler.fit_transform(ytrain), columns=ytrain.columns)\n",
    "xtest = pd.DataFrame(scaler.fit_transform(xtest), columns=xtest.columns)\n",
    "scaler.fit_transform(ytrain)\n",
    "\n",
    "#This drops any and all values where the most common element appears more than 90%\n",
    "#of the time as this information probably isn't the most useful.\n",
    "\n",
    "labels = list(xtrain.columns.values)\n",
    "for elem in labels:\n",
    "    ##If 90% (.9) or more of a column have the same value.\n",
    "    #then the column will be dropped. This value can be changed if needed.\n",
    "    if (list(xtrain[elem].value_counts(normalize = True))[0]) > 0.98:\n",
    "        xtrain.drop(columns = elem, inplace=True)\n",
    "        xtest.drop(columns = elem, inplace=True)\n",
    "\n",
    "# transform data\n",
    "poly = PolynomialFeatures(2)\n",
    "xtrain = poly.fit_transform(xtrain)\n",
    "xtest = poly.fit_transform(xtest)\n",
    "\n",
    "\n",
    "#randomly select 1/5th of the data\n",
    "indexes = np.random.randint(low=0, high=xtrain.shape[0], size=30000)\n",
    "xstoch = np.take(xtrain,indexes,0)\n",
    "ystoch = np.take(ytrain,indexes,0)\n",
    "\n",
    "#w = np.linalg.pinv(xstoch).dot(ystoch)\n",
    "w = xstoch.T.dot(xstoch)\n",
    "\n",
    "#simulate identity matrix regularization (not enough memory for full)\n",
    "# (Xt*X - gamma*I) but with a 0 in the top left corner of the matrix\n",
    "gamma = 0.2\n",
    "for i in range(1, w.shape[0]):\n",
    "    w[i,i] += gamma\n",
    "   \n",
    "#linear regression closed form with regularization\n",
    "w = np.linalg.inv(w).dot(xtrain.T.dot(ytrain))\n",
    "\n",
    "#learning rate\n",
    "l_rate = 0.01\n",
    "\n",
    "#create list of all indexes\n",
    "indexes = np.arange(0, xtrain.shape[0])\n",
    "np.random.shuffle(indexes)\n",
    "\n",
    "steps = 20000\n",
    "epochs = 2\n",
    "for i in range(epochs):\n",
    "\n",
    "    #repeat until epoch is over\n",
    "    index = 0\n",
    "    while ((indexes.shape[0] - index) > steps):\n",
    "        #select a number(steps) random entries from the index list and access them\n",
    "        xstoch = np.take(xtrain,indexes[index:index+steps],0)\n",
    "        ystoch = np.take(ytrain,indexes[index:index+steps],0)\n",
    "       \n",
    "        #perform gradient descent calculation\n",
    "        grad = 2 * (xstoch.T.dot(xstoch.dot(w)-ystoch) / xstoch.shape[0])\n",
    "        w = w - l_rate * grad\n",
    "       \n",
    "        #increment search space\n",
    "        index+=steps\n",
    "       \n",
    "    #when the epoch finishes, reset the index list\n",
    "    indexes = np.arange(0, xtrain.shape[0])\n",
    "    np.random.shuffle(indexes)\n",
    "    l_rate-=0.0001\n",
    "    ypred = xtrain.dot(w)\n",
    "    accuracy_list.append(mean_absolute_error(ytrain,ypred))\n",
    "\n",
    "import xlsxwriter \n",
    "row = 1\n",
    "output = xtest.dot(w)\n",
    "print(output)\n",
    "workbook = xlsxwriter.Workbook('output.xlsx') \n",
    "worksheet = workbook.add_worksheet()  \n",
    "worksheet.write(0, 0, 'Index')\n",
    "worksheet.write(0, 1, 'Label') \n",
    "for i in range(len(xtest)):\n",
    "    worksheet.write(row, 0, i)\n",
    "    worksheet.write(row, 1, output[i])\n",
    "    row += 1\n",
    "\n",
    "workbook.close()"
   ]
  },
  {
   "cell_type": "code",
   "execution_count": null,
   "metadata": {},
   "outputs": [],
   "source": [
    "ypred = xtrain.dot(w)\n",
    "print(\"Training error is \", sklearn.metrics.mean_absolute_error(ytrain,ypred),\"%.\")"
   ]
  },
  {
   "cell_type": "code",
   "execution_count": 1,
   "metadata": {},
   "outputs": [
    {
     "ename": "NameError",
     "evalue": "name 'accuracy_list' is not defined",
     "output_type": "error",
     "traceback": [
      "\u001b[1;31m---------------------------------------------------------------------------\u001b[0m",
      "\u001b[1;31mNameError\u001b[0m                                 Traceback (most recent call last)",
      "\u001b[1;32m<ipython-input-1-c0de906de1c1>\u001b[0m in \u001b[0;36m<module>\u001b[1;34m\u001b[0m\n\u001b[1;32m----> 1\u001b[1;33m \u001b[0mprint\u001b[0m\u001b[1;33m(\u001b[0m\u001b[0maccuracy_list\u001b[0m\u001b[1;33m)\u001b[0m\u001b[1;33m\u001b[0m\u001b[1;33m\u001b[0m\u001b[0m\n\u001b[0m",
      "\u001b[1;31mNameError\u001b[0m: name 'accuracy_list' is not defined"
     ]
    }
   ],
   "source": [
    "print(accuracy_list)"
   ]
  },
  {
   "cell_type": "code",
   "execution_count": null,
   "metadata": {},
   "outputs": [],
   "source": []
  }
 ],
 "metadata": {
  "kernelspec": {
   "display_name": "Python 3",
   "language": "python",
   "name": "python3"
  },
  "language_info": {
   "codemirror_mode": {
    "name": "ipython",
    "version": 3
   },
   "file_extension": ".py",
   "mimetype": "text/x-python",
   "name": "python",
   "nbconvert_exporter": "python",
   "pygments_lexer": "ipython3",
   "version": "3.7.3"
  }
 },
 "nbformat": 4,
 "nbformat_minor": 2
}
